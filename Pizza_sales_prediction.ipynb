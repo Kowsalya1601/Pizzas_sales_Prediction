{
 "cells": [
  {
   "cell_type": "markdown",
   "id": "219ac48d",
   "metadata": {},
   "source": [
    "## Pizza Sales Prediction"
   ]
  },
  {
   "cell_type": "markdown",
   "id": "7959c954",
   "metadata": {},
   "source": [
    "## Problem Statement\n",
    "The Pizza Sales Analysis problem aims to extract valuable insights and predictive patterns from a comprehensive dataset capturing the sales dynamics of a pizzeria. The dataset contains detailed information on individual pizza orders, encompassing aspects such as pizza name, quantity, order date and time, unit price, total price, pizza size, category, ingredients, and more.\n",
    "\n",
    "With this rich dataset at hand, the objective is to develop a data-driven machine learning model that can predict future pizza sales based on a combination of factors. These factors include the pizza's attributes such as size, category, and ingredients, as well as temporal variables like order date and time. By considering these variables collectively, the model should provide an accurate estimation of the sales figures for various pizzas over time.\n",
    "\n",
    "By harnessing the power of machine learning and predictive analytics, this problem aspires to empower pizzeria owners and managers with actionable insights. The model's predictions can aid in optimizing inventory management, production planning, and marketing strategies. Furthermore, understanding the impact of different pizza attributes on sales can guide menu enhancements and special promotions, thereby driving customer satisfaction and boosting business revenue.\n"
   ]
  },
  {
   "cell_type": "markdown",
   "id": "c5da3a61",
   "metadata": {},
   "source": [
    "## Features\n",
    "1)Pizza ID: This attribute serves as a unique identifier for each distinct pizza.\n",
    "\n",
    "2)Order ID: This attribute functions as an identifier for individual pizza orders within the system.\n",
    "\n",
    "3)Pizza Name ID: This attribute corresponds to the identifier associated with the specific name of a pizza.\n",
    "\n",
    "4)Quantity: This attribute quantifies the number of pizzas included in an order.\n",
    "\n",
    "5)Order Date: This attribute  the date on which a customer placed a pizza order.\n",
    "\n",
    "6)Order Time: This attribute specifies the exact time when a customer's pizza order was placed.\n",
    "\n",
    "7)Total Price: Representing the cumulative cost of the pizzas, this attribute is denominated in dollars. The dataset is derived from U.S. pizza sales data.\n",
    "\n",
    "8)Unit Price: This attribute signifies the price of a single unit of pizza.\n",
    "\n",
    "9)Pizza Size: Indicating the dimensional classification of the pizza, this attribute describes its size.\n",
    "\n",
    "10)Pizza Category: Offering insight into the classification of the pizza, this attribute conveys its category.\n",
    "\n",
    "11)Pizza Ingredients: This attribute lists the specific constituents utilized in the preparation of the pizza.\n",
    "\n",
    "12)Pizza Name: This attribute articulates the unique name attributed to a specific pizza variant."
   ]
  },
  {
   "cell_type": "markdown",
   "id": "a814a47b",
   "metadata": {},
   "source": [
    "### Step-1 Importing the libraries"
   ]
  },
  {
   "cell_type": "code",
   "execution_count": 1,
   "id": "4a2b069a",
   "metadata": {},
   "outputs": [],
   "source": [
    "import pandas as pd\n",
    "import numpy as np\n",
    "import matplotlib.pyplot as plt\n",
    "import seaborn as sns\n",
    "import warnings\n",
    "warnings.filterwarnings('ignore')"
   ]
  },
  {
   "cell_type": "markdown",
   "id": "82e69073",
   "metadata": {},
   "source": [
    "### Step-2 Load the Dataset"
   ]
  },
  {
   "cell_type": "code",
   "execution_count": 2,
   "id": "96dd9a38",
   "metadata": {},
   "outputs": [],
   "source": [
    "df= pd.read_excel('pizza_sales_Dataset.xlsx')"
   ]
  },
  {
   "cell_type": "code",
   "execution_count": 3,
   "id": "54e44544",
   "metadata": {},
   "outputs": [
    {
     "data": {
      "text/html": [
       "<div>\n",
       "<style scoped>\n",
       "    .dataframe tbody tr th:only-of-type {\n",
       "        vertical-align: middle;\n",
       "    }\n",
       "\n",
       "    .dataframe tbody tr th {\n",
       "        vertical-align: top;\n",
       "    }\n",
       "\n",
       "    .dataframe thead th {\n",
       "        text-align: right;\n",
       "    }\n",
       "</style>\n",
       "<table border=\"1\" class=\"dataframe\">\n",
       "  <thead>\n",
       "    <tr style=\"text-align: right;\">\n",
       "      <th></th>\n",
       "      <th>pizza_id</th>\n",
       "      <th>order_id</th>\n",
       "      <th>pizza_name_id</th>\n",
       "      <th>quantity</th>\n",
       "      <th>order_date</th>\n",
       "      <th>order_time</th>\n",
       "      <th>unit_price</th>\n",
       "      <th>total_price</th>\n",
       "      <th>pizza_size</th>\n",
       "      <th>pizza_category</th>\n",
       "      <th>pizza_ingredients</th>\n",
       "      <th>pizza_name</th>\n",
       "    </tr>\n",
       "  </thead>\n",
       "  <tbody>\n",
       "    <tr>\n",
       "      <th>0</th>\n",
       "      <td>1</td>\n",
       "      <td>1</td>\n",
       "      <td>hawaiian_m</td>\n",
       "      <td>1.0</td>\n",
       "      <td>2015-01-01</td>\n",
       "      <td>11:38:36</td>\n",
       "      <td>13.25</td>\n",
       "      <td>13.25</td>\n",
       "      <td>M</td>\n",
       "      <td>Classic</td>\n",
       "      <td>Sliced Ham, Pineapple, Mozzarella Cheese</td>\n",
       "      <td>The Hawaiian Pizza</td>\n",
       "    </tr>\n",
       "    <tr>\n",
       "      <th>1</th>\n",
       "      <td>2</td>\n",
       "      <td>2</td>\n",
       "      <td>classic_dlx_m</td>\n",
       "      <td>1.0</td>\n",
       "      <td>2015-01-01</td>\n",
       "      <td>11:57:40</td>\n",
       "      <td>16.00</td>\n",
       "      <td>16.00</td>\n",
       "      <td>M</td>\n",
       "      <td>Classic</td>\n",
       "      <td>Pepperoni, Mushrooms, Red Onions, Red Peppers,...</td>\n",
       "      <td>The Classic Deluxe Pizza</td>\n",
       "    </tr>\n",
       "    <tr>\n",
       "      <th>2</th>\n",
       "      <td>3</td>\n",
       "      <td>2</td>\n",
       "      <td>five_cheese_l</td>\n",
       "      <td>1.0</td>\n",
       "      <td>2015-01-01</td>\n",
       "      <td>11:57:40</td>\n",
       "      <td>18.50</td>\n",
       "      <td>18.50</td>\n",
       "      <td>L</td>\n",
       "      <td>Veggie</td>\n",
       "      <td>Mozzarella Cheese, Provolone Cheese, Smoked Go...</td>\n",
       "      <td>The Five Cheese Pizza</td>\n",
       "    </tr>\n",
       "    <tr>\n",
       "      <th>3</th>\n",
       "      <td>4</td>\n",
       "      <td>2</td>\n",
       "      <td>ital_supr_l</td>\n",
       "      <td>1.0</td>\n",
       "      <td>2015-01-01</td>\n",
       "      <td>11:57:40</td>\n",
       "      <td>20.75</td>\n",
       "      <td>20.75</td>\n",
       "      <td>L</td>\n",
       "      <td>Supreme</td>\n",
       "      <td>Calabrese Salami, Capocollo, Tomatoes, Red Oni...</td>\n",
       "      <td>The Italian Supreme Pizza</td>\n",
       "    </tr>\n",
       "    <tr>\n",
       "      <th>4</th>\n",
       "      <td>5</td>\n",
       "      <td>2</td>\n",
       "      <td>mexicana_m</td>\n",
       "      <td>1.0</td>\n",
       "      <td>2015-01-01</td>\n",
       "      <td>11:57:40</td>\n",
       "      <td>16.00</td>\n",
       "      <td>16.00</td>\n",
       "      <td>M</td>\n",
       "      <td>Veggie</td>\n",
       "      <td>Tomatoes, Red Peppers, Jalapeno Peppers, Red O...</td>\n",
       "      <td>The Mexicana Pizza</td>\n",
       "    </tr>\n",
       "  </tbody>\n",
       "</table>\n",
       "</div>"
      ],
      "text/plain": [
       "   pizza_id  order_id  pizza_name_id  quantity order_date order_time  \\\n",
       "0         1         1     hawaiian_m       1.0 2015-01-01   11:38:36   \n",
       "1         2         2  classic_dlx_m       1.0 2015-01-01   11:57:40   \n",
       "2         3         2  five_cheese_l       1.0 2015-01-01   11:57:40   \n",
       "3         4         2    ital_supr_l       1.0 2015-01-01   11:57:40   \n",
       "4         5         2     mexicana_m       1.0 2015-01-01   11:57:40   \n",
       "\n",
       "   unit_price  total_price pizza_size pizza_category  \\\n",
       "0       13.25        13.25          M        Classic   \n",
       "1       16.00        16.00          M        Classic   \n",
       "2       18.50        18.50          L         Veggie   \n",
       "3       20.75        20.75          L        Supreme   \n",
       "4       16.00        16.00          M         Veggie   \n",
       "\n",
       "                                   pizza_ingredients  \\\n",
       "0           Sliced Ham, Pineapple, Mozzarella Cheese   \n",
       "1  Pepperoni, Mushrooms, Red Onions, Red Peppers,...   \n",
       "2  Mozzarella Cheese, Provolone Cheese, Smoked Go...   \n",
       "3  Calabrese Salami, Capocollo, Tomatoes, Red Oni...   \n",
       "4  Tomatoes, Red Peppers, Jalapeno Peppers, Red O...   \n",
       "\n",
       "                  pizza_name  \n",
       "0         The Hawaiian Pizza  \n",
       "1   The Classic Deluxe Pizza  \n",
       "2      The Five Cheese Pizza  \n",
       "3  The Italian Supreme Pizza  \n",
       "4         The Mexicana Pizza  "
      ]
     },
     "execution_count": 3,
     "metadata": {},
     "output_type": "execute_result"
    }
   ],
   "source": [
    "df.head() ## Its shows the Top 5 records."
   ]
  },
  {
   "cell_type": "code",
   "execution_count": 4,
   "id": "05fa86d0",
   "metadata": {},
   "outputs": [
    {
     "data": {
      "text/plain": [
       "(48620, 12)"
      ]
     },
     "execution_count": 4,
     "metadata": {},
     "output_type": "execute_result"
    }
   ],
   "source": [
    "df.shape ## Its gives the information about the rows and columns in dataset "
   ]
  },
  {
   "cell_type": "code",
   "execution_count": 5,
   "id": "7e3aa099",
   "metadata": {},
   "outputs": [
    {
     "name": "stdout",
     "output_type": "stream",
     "text": [
      "<class 'pandas.core.frame.DataFrame'>\n",
      "RangeIndex: 48620 entries, 0 to 48619\n",
      "Data columns (total 12 columns):\n",
      " #   Column             Non-Null Count  Dtype         \n",
      "---  ------             --------------  -----         \n",
      " 0   pizza_id           48620 non-null  int64         \n",
      " 1   order_id           48620 non-null  int64         \n",
      " 2   pizza_name_id      48620 non-null  object        \n",
      " 3   quantity           48507 non-null  float64       \n",
      " 4   order_date         48620 non-null  datetime64[ns]\n",
      " 5   order_time         48620 non-null  object        \n",
      " 6   unit_price         48620 non-null  float64       \n",
      " 7   total_price        48620 non-null  float64       \n",
      " 8   pizza_size         48526 non-null  object        \n",
      " 9   pizza_category     48553 non-null  object        \n",
      " 10  pizza_ingredients  48620 non-null  object        \n",
      " 11  pizza_name         48620 non-null  object        \n",
      "dtypes: datetime64[ns](1), float64(3), int64(2), object(6)\n",
      "memory usage: 4.5+ MB\n"
     ]
    }
   ],
   "source": [
    "df.info() ## Its specifies Particular informtion about data"
   ]
  },
  {
   "cell_type": "markdown",
   "id": "8e917262",
   "metadata": {},
   "source": [
    "### step-3 EDA (Exploratory Data Analysis)"
   ]
  },
  {
   "cell_type": "code",
   "execution_count": 6,
   "id": "e56eb7e1",
   "metadata": {},
   "outputs": [
    {
     "data": {
      "text/html": [
       "<div>\n",
       "<style scoped>\n",
       "    .dataframe tbody tr th:only-of-type {\n",
       "        vertical-align: middle;\n",
       "    }\n",
       "\n",
       "    .dataframe tbody tr th {\n",
       "        vertical-align: top;\n",
       "    }\n",
       "\n",
       "    .dataframe thead th {\n",
       "        text-align: right;\n",
       "    }\n",
       "</style>\n",
       "<table border=\"1\" class=\"dataframe\">\n",
       "  <thead>\n",
       "    <tr style=\"text-align: right;\">\n",
       "      <th></th>\n",
       "      <th>count</th>\n",
       "      <th>mean</th>\n",
       "      <th>std</th>\n",
       "      <th>min</th>\n",
       "      <th>25%</th>\n",
       "      <th>50%</th>\n",
       "      <th>75%</th>\n",
       "      <th>max</th>\n",
       "    </tr>\n",
       "  </thead>\n",
       "  <tbody>\n",
       "    <tr>\n",
       "      <th>pizza_id</th>\n",
       "      <td>48620.0</td>\n",
       "      <td>24310.500000</td>\n",
       "      <td>14035.529381</td>\n",
       "      <td>1.00</td>\n",
       "      <td>12155.75</td>\n",
       "      <td>24310.5</td>\n",
       "      <td>36465.25</td>\n",
       "      <td>48620.00</td>\n",
       "    </tr>\n",
       "    <tr>\n",
       "      <th>order_id</th>\n",
       "      <td>48620.0</td>\n",
       "      <td>10701.479761</td>\n",
       "      <td>6180.119770</td>\n",
       "      <td>1.00</td>\n",
       "      <td>5337.00</td>\n",
       "      <td>10682.5</td>\n",
       "      <td>16100.00</td>\n",
       "      <td>21350.00</td>\n",
       "    </tr>\n",
       "    <tr>\n",
       "      <th>quantity</th>\n",
       "      <td>48507.0</td>\n",
       "      <td>1.019667</td>\n",
       "      <td>0.143240</td>\n",
       "      <td>1.00</td>\n",
       "      <td>1.00</td>\n",
       "      <td>1.0</td>\n",
       "      <td>1.00</td>\n",
       "      <td>4.00</td>\n",
       "    </tr>\n",
       "    <tr>\n",
       "      <th>unit_price</th>\n",
       "      <td>48620.0</td>\n",
       "      <td>16.494132</td>\n",
       "      <td>3.621789</td>\n",
       "      <td>9.75</td>\n",
       "      <td>12.75</td>\n",
       "      <td>16.5</td>\n",
       "      <td>20.25</td>\n",
       "      <td>35.95</td>\n",
       "    </tr>\n",
       "    <tr>\n",
       "      <th>total_price</th>\n",
       "      <td>48620.0</td>\n",
       "      <td>16.821474</td>\n",
       "      <td>4.437398</td>\n",
       "      <td>9.75</td>\n",
       "      <td>12.75</td>\n",
       "      <td>16.5</td>\n",
       "      <td>20.50</td>\n",
       "      <td>83.00</td>\n",
       "    </tr>\n",
       "  </tbody>\n",
       "</table>\n",
       "</div>"
      ],
      "text/plain": [
       "               count          mean           std   min       25%      50%  \\\n",
       "pizza_id     48620.0  24310.500000  14035.529381  1.00  12155.75  24310.5   \n",
       "order_id     48620.0  10701.479761   6180.119770  1.00   5337.00  10682.5   \n",
       "quantity     48507.0      1.019667      0.143240  1.00      1.00      1.0   \n",
       "unit_price   48620.0     16.494132      3.621789  9.75     12.75     16.5   \n",
       "total_price  48620.0     16.821474      4.437398  9.75     12.75     16.5   \n",
       "\n",
       "                  75%       max  \n",
       "pizza_id     36465.25  48620.00  \n",
       "order_id     16100.00  21350.00  \n",
       "quantity         1.00      4.00  \n",
       "unit_price      20.25     35.95  \n",
       "total_price     20.50     83.00  "
      ]
     },
     "execution_count": 6,
     "metadata": {},
     "output_type": "execute_result"
    }
   ],
   "source": [
    "df.describe().T"
   ]
  },
  {
   "cell_type": "code",
   "execution_count": 7,
   "id": "115a1071",
   "metadata": {},
   "outputs": [
    {
     "data": {
      "text/plain": [
       "pizza_id               0\n",
       "order_id               0\n",
       "pizza_name_id          0\n",
       "quantity             113\n",
       "order_date             0\n",
       "order_time             0\n",
       "unit_price             0\n",
       "total_price            0\n",
       "pizza_size            94\n",
       "pizza_category        67\n",
       "pizza_ingredients      0\n",
       "pizza_name             0\n",
       "dtype: int64"
      ]
     },
     "execution_count": 7,
     "metadata": {},
     "output_type": "execute_result"
    }
   ],
   "source": [
    "df.isnull().sum()"
   ]
  },
  {
   "cell_type": "markdown",
   "id": "36f6a388",
   "metadata": {},
   "source": [
    "### Treating Null values"
   ]
  },
  {
   "cell_type": "markdown",
   "id": "a51a0d8c",
   "metadata": {},
   "source": [
    "In this dataset, we have 3 variables that are treated with some filling method for null values. Since these 3 variables are object values, we can fill them with the mode option.\n",
    "\n",
    "Here are some extra points about filling null values with the mode option:\n",
    "\n",
    "The mode is the most frequent value in a column.\n",
    "Filling null values with the mode is a good option when the data is categorical.\n",
    "This is because the mode is the most likely value for a missing value in a categorical column."
   ]
  },
  {
   "cell_type": "code",
   "execution_count": 8,
   "id": "f8e4db56",
   "metadata": {},
   "outputs": [
    {
     "data": {
      "text/plain": [
       "1.0    47580\n",
       "2.0      903\n",
       "3.0       21\n",
       "4.0        3\n",
       "Name: quantity, dtype: int64"
      ]
     },
     "execution_count": 8,
     "metadata": {},
     "output_type": "execute_result"
    }
   ],
   "source": [
    "df['quantity'].value_counts()"
   ]
  },
  {
   "cell_type": "code",
   "execution_count": 9,
   "id": "cc0d6244",
   "metadata": {},
   "outputs": [
    {
     "data": {
      "text/plain": [
       "0    1.0\n",
       "Name: quantity, dtype: float64"
      ]
     },
     "execution_count": 9,
     "metadata": {},
     "output_type": "execute_result"
    }
   ],
   "source": [
    "quantity_mode=df['quantity'].mode()\n",
    "quantity_mode"
   ]
  },
  {
   "cell_type": "code",
   "execution_count": 10,
   "id": "6ffb1f52",
   "metadata": {},
   "outputs": [],
   "source": [
    "df['quantity']=df['quantity'].fillna(1.0)"
   ]
  },
  {
   "cell_type": "code",
   "execution_count": 11,
   "id": "404cb747",
   "metadata": {},
   "outputs": [
    {
     "data": {
      "text/plain": [
       "L      18432\n",
       "M      15385\n",
       "S      14137\n",
       "XL       544\n",
       "XXL       28\n",
       "Name: pizza_size, dtype: int64"
      ]
     },
     "execution_count": 11,
     "metadata": {},
     "output_type": "execute_result"
    }
   ],
   "source": [
    "df['pizza_size'].value_counts()"
   ]
  },
  {
   "cell_type": "code",
   "execution_count": 12,
   "id": "58a0cc44",
   "metadata": {},
   "outputs": [
    {
     "data": {
      "text/plain": [
       "0    L\n",
       "Name: pizza_size, dtype: object"
      ]
     },
     "execution_count": 12,
     "metadata": {},
     "output_type": "execute_result"
    }
   ],
   "source": [
    "pizza_size_mode=df['pizza_size'].mode()\n",
    "pizza_size_mode"
   ]
  },
  {
   "cell_type": "code",
   "execution_count": 13,
   "id": "c92814f1",
   "metadata": {},
   "outputs": [],
   "source": [
    "df['pizza_size']=df['pizza_size'].fillna(\"L\")"
   ]
  },
  {
   "cell_type": "code",
   "execution_count": 14,
   "id": "13a034f2",
   "metadata": {},
   "outputs": [
    {
     "data": {
      "text/plain": [
       "Classic    14512\n",
       "Supreme    11777\n",
       "Veggie     11449\n",
       "Chicken    10815\n",
       "Name: pizza_category, dtype: int64"
      ]
     },
     "execution_count": 14,
     "metadata": {},
     "output_type": "execute_result"
    }
   ],
   "source": [
    "df['pizza_category'].value_counts()"
   ]
  },
  {
   "cell_type": "code",
   "execution_count": 15,
   "id": "ce880bca",
   "metadata": {},
   "outputs": [
    {
     "data": {
      "text/plain": [
       "0    Classic\n",
       "Name: pizza_category, dtype: object"
      ]
     },
     "execution_count": 15,
     "metadata": {},
     "output_type": "execute_result"
    }
   ],
   "source": [
    "pizza_category_mode=df['pizza_category'].mode()\n",
    "pizza_category_mode"
   ]
  },
  {
   "cell_type": "code",
   "execution_count": 16,
   "id": "271b5f4c",
   "metadata": {},
   "outputs": [],
   "source": [
    "df['pizza_category']=df['pizza_category'].fillna(\"Classic\")"
   ]
  },
  {
   "cell_type": "code",
   "execution_count": 17,
   "id": "3ce710c7",
   "metadata": {},
   "outputs": [
    {
     "data": {
      "text/plain": [
       "pizza_id             0\n",
       "order_id             0\n",
       "pizza_name_id        0\n",
       "quantity             0\n",
       "order_date           0\n",
       "order_time           0\n",
       "unit_price           0\n",
       "total_price          0\n",
       "pizza_size           0\n",
       "pizza_category       0\n",
       "pizza_ingredients    0\n",
       "pizza_name           0\n",
       "dtype: int64"
      ]
     },
     "execution_count": 17,
     "metadata": {},
     "output_type": "execute_result"
    }
   ],
   "source": [
    "df.isnull().sum()"
   ]
  },
  {
   "cell_type": "markdown",
   "id": "5d24f394",
   "metadata": {},
   "source": [
    "### Checking for correlation"
   ]
  },
  {
   "cell_type": "code",
   "execution_count": 18,
   "id": "46ad7e1f",
   "metadata": {},
   "outputs": [
    {
     "data": {
      "text/html": [
       "<div>\n",
       "<style scoped>\n",
       "    .dataframe tbody tr th:only-of-type {\n",
       "        vertical-align: middle;\n",
       "    }\n",
       "\n",
       "    .dataframe tbody tr th {\n",
       "        vertical-align: top;\n",
       "    }\n",
       "\n",
       "    .dataframe thead th {\n",
       "        text-align: right;\n",
       "    }\n",
       "</style>\n",
       "<table border=\"1\" class=\"dataframe\">\n",
       "  <thead>\n",
       "    <tr style=\"text-align: right;\">\n",
       "      <th></th>\n",
       "      <th>pizza_id</th>\n",
       "      <th>order_id</th>\n",
       "      <th>quantity</th>\n",
       "      <th>unit_price</th>\n",
       "      <th>total_price</th>\n",
       "    </tr>\n",
       "  </thead>\n",
       "  <tbody>\n",
       "    <tr>\n",
       "      <th>pizza_id</th>\n",
       "      <td>1.000000</td>\n",
       "      <td>0.999990</td>\n",
       "      <td>0.003639</td>\n",
       "      <td>-0.003286</td>\n",
       "      <td>-0.000847</td>\n",
       "    </tr>\n",
       "    <tr>\n",
       "      <th>order_id</th>\n",
       "      <td>0.999990</td>\n",
       "      <td>1.000000</td>\n",
       "      <td>0.003621</td>\n",
       "      <td>-0.003323</td>\n",
       "      <td>-0.000889</td>\n",
       "    </tr>\n",
       "    <tr>\n",
       "      <th>quantity</th>\n",
       "      <td>0.003639</td>\n",
       "      <td>0.003621</td>\n",
       "      <td>1.000000</td>\n",
       "      <td>0.007142</td>\n",
       "      <td>0.541926</td>\n",
       "    </tr>\n",
       "    <tr>\n",
       "      <th>unit_price</th>\n",
       "      <td>-0.003286</td>\n",
       "      <td>-0.003323</td>\n",
       "      <td>0.007142</td>\n",
       "      <td>1.000000</td>\n",
       "      <td>0.836087</td>\n",
       "    </tr>\n",
       "    <tr>\n",
       "      <th>total_price</th>\n",
       "      <td>-0.000847</td>\n",
       "      <td>-0.000889</td>\n",
       "      <td>0.541926</td>\n",
       "      <td>0.836087</td>\n",
       "      <td>1.000000</td>\n",
       "    </tr>\n",
       "  </tbody>\n",
       "</table>\n",
       "</div>"
      ],
      "text/plain": [
       "             pizza_id  order_id  quantity  unit_price  total_price\n",
       "pizza_id     1.000000  0.999990  0.003639   -0.003286    -0.000847\n",
       "order_id     0.999990  1.000000  0.003621   -0.003323    -0.000889\n",
       "quantity     0.003639  0.003621  1.000000    0.007142     0.541926\n",
       "unit_price  -0.003286 -0.003323  0.007142    1.000000     0.836087\n",
       "total_price -0.000847 -0.000889  0.541926    0.836087     1.000000"
      ]
     },
     "execution_count": 18,
     "metadata": {},
     "output_type": "execute_result"
    }
   ],
   "source": [
    "correlation=df.corr()\n",
    "correlation"
   ]
  },
  {
   "cell_type": "code",
   "execution_count": 19,
   "id": "be9f71d2",
   "metadata": {},
   "outputs": [
    {
     "data": {
      "text/plain": [
       "<AxesSubplot:>"
      ]
     },
     "execution_count": 19,
     "metadata": {},
     "output_type": "execute_result"
    },
    {
     "data": {
      "image/png": "[encoded data removed]",
      "text/plain": [
       "<Figure size 1000x800 with 2 Axes>"
      ]
     },
     "metadata": {},
     "output_type": "display_data"
    }
   ],
   "source": [
    "plt.figure(figsize=(10,8))\n",
    "sns.heatmap(correlation,annot=True)"
   ]
  },
  {
   "cell_type": "markdown",
   "id": "db10f987",
   "metadata": {},
   "source": [
    "To enhance the model's performance, it's advisable to address the strong correlation between order_id and pizza_id. Consequently, one of these columns should be dropped. Additionally, there is a similar situation with unit_price and total_price, where one of these should be omitted."
   ]
  },
  {
   "cell_type": "code",
   "execution_count": 20,
   "id": "f62e65f1",
   "metadata": {},
   "outputs": [],
   "source": [
    "df.drop(['order_id','unit_price'],inplace=True,axis=1)"
   ]
  },
  {
   "cell_type": "markdown",
   "id": "8f62f9db",
   "metadata": {},
   "source": [
    "Since the dataset includes columns containing date and time information, it is necessary to perform conversions for these specific columns."
   ]
  },
  {
   "cell_type": "code",
   "execution_count": 21,
   "id": "ac9c80e4",
   "metadata": {},
   "outputs": [],
   "source": [
    "df[\"order_month\"] = df[\"order_date\"].dt.month\n",
    "df[\"order_day\"] = df[\"order_date\"].dt.day\n",
    "df[\"order_year\"] = df[\"order_date\"].dt.year"
   ]
  },
  {
   "cell_type": "code",
   "execution_count": 22,
   "id": "15e76538",
   "metadata": {},
   "outputs": [
    {
     "data": {
      "text/html": [
       "<div>\n",
       "<style scoped>\n",
       "    .dataframe tbody tr th:only-of-type {\n",
       "        vertical-align: middle;\n",
       "    }\n",
       "\n",
       "    .dataframe tbody tr th {\n",
       "        vertical-align: top;\n",
       "    }\n",
       "\n",
       "    .dataframe thead th {\n",
       "        text-align: right;\n",
       "    }\n",
       "</style>\n",
       "<table border=\"1\" class=\"dataframe\">\n",
       "  <thead>\n",
       "    <tr style=\"text-align: right;\">\n",
       "      <th></th>\n",
       "      <th>pizza_id</th>\n",
       "      <th>pizza_name_id</th>\n",
       "      <th>quantity</th>\n",
       "      <th>order_date</th>\n",
       "      <th>order_time</th>\n",
       "      <th>total_price</th>\n",
       "      <th>pizza_size</th>\n",
       "      <th>pizza_category</th>\n",
       "      <th>pizza_ingredients</th>\n",
       "      <th>pizza_name</th>\n",
       "      <th>order_month</th>\n",
       "      <th>order_day</th>\n",
       "      <th>order_year</th>\n",
       "    </tr>\n",
       "  </thead>\n",
       "  <tbody>\n",
       "    <tr>\n",
       "      <th>0</th>\n",
       "      <td>1</td>\n",
       "      <td>hawaiian_m</td>\n",
       "      <td>1.0</td>\n",
       "      <td>2015-01-01</td>\n",
       "      <td>11:38:36</td>\n",
       "      <td>13.25</td>\n",
       "      <td>M</td>\n",
       "      <td>Classic</td>\n",
       "      <td>Sliced Ham, Pineapple, Mozzarella Cheese</td>\n",
       "      <td>The Hawaiian Pizza</td>\n",
       "      <td>1</td>\n",
       "      <td>1</td>\n",
       "      <td>2015</td>\n",
       "    </tr>\n",
       "    <tr>\n",
       "      <th>1</th>\n",
       "      <td>2</td>\n",
       "      <td>classic_dlx_m</td>\n",
       "      <td>1.0</td>\n",
       "      <td>2015-01-01</td>\n",
       "      <td>11:57:40</td>\n",
       "      <td>16.00</td>\n",
       "      <td>M</td>\n",
       "      <td>Classic</td>\n",
       "      <td>Pepperoni, Mushrooms, Red Onions, Red Peppers,...</td>\n",
       "      <td>The Classic Deluxe Pizza</td>\n",
       "      <td>1</td>\n",
       "      <td>1</td>\n",
       "      <td>2015</td>\n",
       "    </tr>\n",
       "    <tr>\n",
       "      <th>2</th>\n",
       "      <td>3</td>\n",
       "      <td>five_cheese_l</td>\n",
       "      <td>1.0</td>\n",
       "      <td>2015-01-01</td>\n",
       "      <td>11:57:40</td>\n",
       "      <td>18.50</td>\n",
       "      <td>L</td>\n",
       "      <td>Veggie</td>\n",
       "      <td>Mozzarella Cheese, Provolone Cheese, Smoked Go...</td>\n",
       "      <td>The Five Cheese Pizza</td>\n",
       "      <td>1</td>\n",
       "      <td>1</td>\n",
       "      <td>2015</td>\n",
       "    </tr>\n",
       "    <tr>\n",
       "      <th>3</th>\n",
       "      <td>4</td>\n",
       "      <td>ital_supr_l</td>\n",
       "      <td>1.0</td>\n",
       "      <td>2015-01-01</td>\n",
       "      <td>11:57:40</td>\n",
       "      <td>20.75</td>\n",
       "      <td>L</td>\n",
       "      <td>Supreme</td>\n",
       "      <td>Calabrese Salami, Capocollo, Tomatoes, Red Oni...</td>\n",
       "      <td>The Italian Supreme Pizza</td>\n",
       "      <td>1</td>\n",
       "      <td>1</td>\n",
       "      <td>2015</td>\n",
       "    </tr>\n",
       "    <tr>\n",
       "      <th>4</th>\n",
       "      <td>5</td>\n",
       "      <td>mexicana_m</td>\n",
       "      <td>1.0</td>\n",
       "      <td>2015-01-01</td>\n",
       "      <td>11:57:40</td>\n",
       "      <td>16.00</td>\n",
       "      <td>M</td>\n",
       "      <td>Veggie</td>\n",
       "      <td>Tomatoes, Red Peppers, Jalapeno Peppers, Red O...</td>\n",
       "      <td>The Mexicana Pizza</td>\n",
       "      <td>1</td>\n",
       "      <td>1</td>\n",
       "      <td>2015</td>\n",
       "    </tr>\n",
       "  </tbody>\n",
       "</table>\n",
       "</div>"
      ],
      "text/plain": [
       "   pizza_id  pizza_name_id  quantity order_date order_time  total_price  \\\n",
       "0         1     hawaiian_m       1.0 2015-01-01   11:38:36        13.25   \n",
       "1         2  classic_dlx_m       1.0 2015-01-01   11:57:40        16.00   \n",
       "2         3  five_cheese_l       1.0 2015-01-01   11:57:40        18.50   \n",
       "3         4    ital_supr_l       1.0 2015-01-01   11:57:40        20.75   \n",
       "4         5     mexicana_m       1.0 2015-01-01   11:57:40        16.00   \n",
       "\n",
       "  pizza_size pizza_category  \\\n",
       "0          M        Classic   \n",
       "1          M        Classic   \n",
       "2          L         Veggie   \n",
       "3          L        Supreme   \n",
       "4          M         Veggie   \n",
       "\n",
       "                                   pizza_ingredients  \\\n",
       "0           Sliced Ham, Pineapple, Mozzarella Cheese   \n",
       "1  Pepperoni, Mushrooms, Red Onions, Red Peppers,...   \n",
       "2  Mozzarella Cheese, Provolone Cheese, Smoked Go...   \n",
       "3  Calabrese Salami, Capocollo, Tomatoes, Red Oni...   \n",
       "4  Tomatoes, Red Peppers, Jalapeno Peppers, Red O...   \n",
       "\n",
       "                  pizza_name  order_month  order_day  order_year  \n",
       "0         The Hawaiian Pizza            1          1        2015  \n",
       "1   The Classic Deluxe Pizza            1          1        2015  \n",
       "2      The Five Cheese Pizza            1          1        2015  \n",
       "3  The Italian Supreme Pizza            1          1        2015  \n",
       "4         The Mexicana Pizza            1          1        2015  "
      ]
     },
     "execution_count": 22,
     "metadata": {},
     "output_type": "execute_result"
    }
   ],
   "source": [
    "df.head()"
   ]
  },
  {
   "cell_type": "code",
   "execution_count": 23,
   "id": "f5e4fd71",
   "metadata": {
    "scrolled": false
   },
   "outputs": [],
   "source": [
    "from datetime import datetime\n",
    "\n",
    "# Assuming df[\"order_time\"] contains time strings in the format \"HH:MM:SS\"\n",
    "df[\"order_time_seconds\"] = df[\"order_time\"].apply(\n",
    "    lambda x: (datetime.strptime(str(x), \"%H:%M:%S\") - datetime.strptime(\"00:00:00\", \"%H:%M:%S\")).seconds)"
   ]
  },
  {
   "cell_type": "code",
   "execution_count": 24,
   "id": "65e4f14e",
   "metadata": {},
   "outputs": [],
   "source": [
    "df.drop(['order_date','order_time'],axis=1,inplace=True)"
   ]
  },
  {
   "cell_type": "code",
   "execution_count": 25,
   "id": "fce3fd0d",
   "metadata": {},
   "outputs": [
    {
     "data": {
      "text/html": [
       "<div>\n",
       "<style scoped>\n",
       "    .dataframe tbody tr th:only-of-type {\n",
       "        vertical-align: middle;\n",
       "    }\n",
       "\n",
       "    .dataframe tbody tr th {\n",
       "        vertical-align: top;\n",
       "    }\n",
       "\n",
       "    .dataframe thead th {\n",
       "        text-align: right;\n",
       "    }\n",
       "</style>\n",
       "<table border=\"1\" class=\"dataframe\">\n",
       "  <thead>\n",
       "    <tr style=\"text-align: right;\">\n",
       "      <th></th>\n",
       "      <th>pizza_id</th>\n",
       "      <th>pizza_name_id</th>\n",
       "      <th>quantity</th>\n",
       "      <th>total_price</th>\n",
       "      <th>pizza_size</th>\n",
       "      <th>pizza_category</th>\n",
       "      <th>pizza_ingredients</th>\n",
       "      <th>pizza_name</th>\n",
       "      <th>order_month</th>\n",
       "      <th>order_day</th>\n",
       "      <th>order_year</th>\n",
       "      <th>order_time_seconds</th>\n",
       "    </tr>\n",
       "  </thead>\n",
       "  <tbody>\n",
       "    <tr>\n",
       "      <th>0</th>\n",
       "      <td>1</td>\n",
       "      <td>hawaiian_m</td>\n",
       "      <td>1.0</td>\n",
       "      <td>13.25</td>\n",
       "      <td>M</td>\n",
       "      <td>Classic</td>\n",
       "      <td>Sliced Ham, Pineapple, Mozzarella Cheese</td>\n",
       "      <td>The Hawaiian Pizza</td>\n",
       "      <td>1</td>\n",
       "      <td>1</td>\n",
       "      <td>2015</td>\n",
       "      <td>41916</td>\n",
       "    </tr>\n",
       "    <tr>\n",
       "      <th>1</th>\n",
       "      <td>2</td>\n",
       "      <td>classic_dlx_m</td>\n",
       "      <td>1.0</td>\n",
       "      <td>16.00</td>\n",
       "      <td>M</td>\n",
       "      <td>Classic</td>\n",
       "      <td>Pepperoni, Mushrooms, Red Onions, Red Peppers,...</td>\n",
       "      <td>The Classic Deluxe Pizza</td>\n",
       "      <td>1</td>\n",
       "      <td>1</td>\n",
       "      <td>2015</td>\n",
       "      <td>43060</td>\n",
       "    </tr>\n",
       "    <tr>\n",
       "      <th>2</th>\n",
       "      <td>3</td>\n",
       "      <td>five_cheese_l</td>\n",
       "      <td>1.0</td>\n",
       "      <td>18.50</td>\n",
       "      <td>L</td>\n",
       "      <td>Veggie</td>\n",
       "      <td>Mozzarella Cheese, Provolone Cheese, Smoked Go...</td>\n",
       "      <td>The Five Cheese Pizza</td>\n",
       "      <td>1</td>\n",
       "      <td>1</td>\n",
       "      <td>2015</td>\n",
       "      <td>43060</td>\n",
       "    </tr>\n",
       "    <tr>\n",
       "      <th>3</th>\n",
       "      <td>4</td>\n",
       "      <td>ital_supr_l</td>\n",
       "      <td>1.0</td>\n",
       "      <td>20.75</td>\n",
       "      <td>L</td>\n",
       "      <td>Supreme</td>\n",
       "      <td>Calabrese Salami, Capocollo, Tomatoes, Red Oni...</td>\n",
       "      <td>The Italian Supreme Pizza</td>\n",
       "      <td>1</td>\n",
       "      <td>1</td>\n",
       "      <td>2015</td>\n",
       "      <td>43060</td>\n",
       "    </tr>\n",
       "    <tr>\n",
       "      <th>4</th>\n",
       "      <td>5</td>\n",
       "      <td>mexicana_m</td>\n",
       "      <td>1.0</td>\n",
       "      <td>16.00</td>\n",
       "      <td>M</td>\n",
       "      <td>Veggie</td>\n",
       "      <td>Tomatoes, Red Peppers, Jalapeno Peppers, Red O...</td>\n",
       "      <td>The Mexicana Pizza</td>\n",
       "      <td>1</td>\n",
       "      <td>1</td>\n",
       "      <td>2015</td>\n",
       "      <td>43060</td>\n",
       "    </tr>\n",
       "  </tbody>\n",
       "</table>\n",
       "</div>"
      ],
      "text/plain": [
       "   pizza_id  pizza_name_id  quantity  total_price pizza_size pizza_category  \\\n",
       "0         1     hawaiian_m       1.0        13.25          M        Classic   \n",
       "1         2  classic_dlx_m       1.0        16.00          M        Classic   \n",
       "2         3  five_cheese_l       1.0        18.50          L         Veggie   \n",
       "3         4    ital_supr_l       1.0        20.75          L        Supreme   \n",
       "4         5     mexicana_m       1.0        16.00          M         Veggie   \n",
       "\n",
       "                                   pizza_ingredients  \\\n",
       "0           Sliced Ham, Pineapple, Mozzarella Cheese   \n",
       "1  Pepperoni, Mushrooms, Red Onions, Red Peppers,...   \n",
       "2  Mozzarella Cheese, Provolone Cheese, Smoked Go...   \n",
       "3  Calabrese Salami, Capocollo, Tomatoes, Red Oni...   \n",
       "4  Tomatoes, Red Peppers, Jalapeno Peppers, Red O...   \n",
       "\n",
       "                  pizza_name  order_month  order_day  order_year  \\\n",
       "0         The Hawaiian Pizza            1          1        2015   \n",
       "1   The Classic Deluxe Pizza            1          1        2015   \n",
       "2      The Five Cheese Pizza            1          1        2015   \n",
       "3  The Italian Supreme Pizza            1          1        2015   \n",
       "4         The Mexicana Pizza            1          1        2015   \n",
       "\n",
       "   order_time_seconds  \n",
       "0               41916  \n",
       "1               43060  \n",
       "2               43060  \n",
       "3               43060  \n",
       "4               43060  "
      ]
     },
     "execution_count": 25,
     "metadata": {},
     "output_type": "execute_result"
    }
   ],
   "source": [
    "df.head()"
   ]
  },
  {
   "cell_type": "markdown",
   "id": "7d3dfe6e",
   "metadata": {},
   "source": [
    "I have performed Exploratory Data Analysis (EDA) on the dataset and created a Power BI dashboard to visualize the insights derived from the data. Additionally, I have conducted an in-depth analysis of pizza sales, uncovering valuable patterns and trends. The Power BI dashboard provides a comprehensive view of the data, offering actionable insights that contribute to a better understanding of both the dataset and the pizza sales dynamics."
   ]
  },
  {
   "cell_type": "markdown",
   "id": "57598d22",
   "metadata": {},
   "source": [
    "### Outlier Treatment"
   ]
  },
  {
   "cell_type": "code",
   "execution_count": 26,
   "id": "fd2bb02c",
   "metadata": {},
   "outputs": [
    {
     "data": {
      "image/png": "[encoded data removed]",
      "text/plain": [
       "<Figure size 640x480 with 1 Axes>"
      ]
     },
     "metadata": {},
     "output_type": "display_data"
    },
    {
     "data": {
      "image/png": "[encoded data removed]",
      "text/plain": [
       "<Figure size 640x480 with 1 Axes>"
      ]
     },
     "metadata": {},
     "output_type": "display_data"
    }
   ],
   "source": [
    "column_names = ['quantity','order_time_seconds']\n",
    "for i in column_names:\n",
    "    sns.boxplot(df[i],data=df);\n",
    "    plt.show();"
   ]
  },
  {
   "cell_type": "markdown",
   "id": "6dc15c3a",
   "metadata": {},
   "source": [
    "In the given dataset, comprising three numerical attributes, one of which serves as the target variable, the \"quantity\" feature exhibits outlier values. Consequently, outlier mitigation techniques are not employed within this dataset preprocessing. However, for subsequent stages, we employ the Min-Max scaling algorithm to normalize the numerical features. Notably, despite the presence of outliers and the utilization of Min-Max scaling, the predictive performance of the machine learning model remains unaltered."
   ]
  },
  {
   "cell_type": "markdown",
   "id": "03f13f1a",
   "metadata": {},
   "source": [
    "### Label Encoding"
   ]
  },
  {
   "cell_type": "code",
   "execution_count": 27,
   "id": "6c01c823",
   "metadata": {},
   "outputs": [],
   "source": [
    "from sklearn.preprocessing import LabelEncoder,MinMaxScaler\n",
    "LE=LabelEncoder()"
   ]
  },
  {
   "cell_type": "markdown",
   "id": "d2f01319",
   "metadata": {},
   "source": [
    "In this dataset, there are four columns that need label encoding as they contain categorical data representing rankings. Since these four columns are of object data type, I will perform label encoding to convert these categorical variables into numerical values."
   ]
  },
  {
   "cell_type": "code",
   "execution_count": 28,
   "id": "8e4b3733",
   "metadata": {},
   "outputs": [],
   "source": [
    "df['pizza_category']=LE.fit_transform(df['pizza_category'])\n",
    "df['pizza_ingredients']=LE.fit_transform(df['pizza_ingredients'])\n",
    "df['pizza_name_id']=LE.fit_transform(df['pizza_name_id'])\n",
    "df['pizza_name']=LE.fit_transform(df['pizza_name'])"
   ]
  },
  {
   "cell_type": "markdown",
   "id": "13225691",
   "metadata": {},
   "source": [
    "## One hot encoding"
   ]
  },
  {
   "cell_type": "markdown",
   "id": "341bb792",
   "metadata": {},
   "source": [
    "I have applied one-hot encoding to the 'pizza_size' column. This transformation was done because 'pizza_size' contains categorical data, and one-hot encoding converts each categorical value into a separate binary column, making it suitable for machine learning algorithms"
   ]
  },
  {
   "cell_type": "code",
   "execution_count": 29,
   "id": "25f29b82",
   "metadata": {},
   "outputs": [
    {
     "data": {
      "text/plain": [
       "array(['M', 'L', 'S', 'XL', 'XXL'], dtype=object)"
      ]
     },
     "execution_count": 29,
     "metadata": {},
     "output_type": "execute_result"
    }
   ],
   "source": [
    "df['pizza_size'].unique()"
   ]
  },
  {
   "cell_type": "code",
   "execution_count": 30,
   "id": "974e6d45",
   "metadata": {},
   "outputs": [],
   "source": [
    "df=pd.get_dummies(df,columns=['pizza_size'],drop_first=True)"
   ]
  },
  {
   "cell_type": "code",
   "execution_count": 31,
   "id": "cfc6ea31",
   "metadata": {},
   "outputs": [
    {
     "data": {
      "text/plain": [
       "MinMaxScaler()"
      ]
     },
     "execution_count": 31,
     "metadata": {},
     "output_type": "execute_result"
    }
   ],
   "source": [
    "min_max=MinMaxScaler()\n",
    "min_max"
   ]
  },
  {
   "cell_type": "code",
   "execution_count": 32,
   "id": "80eb46bf",
   "metadata": {},
   "outputs": [],
   "source": [
    "df['order_time_seconds']=min_max.fit_transform(df[['order_time_seconds']])\n",
    "df['quantity']=min_max.fit_transform(df[['quantity']])"
   ]
  },
  {
   "cell_type": "markdown",
   "id": "c497876e",
   "metadata": {},
   "source": [
    "## Model Building"
   ]
  },
  {
   "cell_type": "code",
   "execution_count": 33,
   "id": "a2e1bc7a",
   "metadata": {},
   "outputs": [],
   "source": [
    "x=df.drop(['total_price'],axis=1)\n",
    "y=df[['total_price']]"
   ]
  },
  {
   "cell_type": "code",
   "execution_count": 34,
   "id": "10eca652",
   "metadata": {},
   "outputs": [
    {
     "data": {
      "text/html": [
       "<div>\n",
       "<style scoped>\n",
       "    .dataframe tbody tr th:only-of-type {\n",
       "        vertical-align: middle;\n",
       "    }\n",
       "\n",
       "    .dataframe tbody tr th {\n",
       "        vertical-align: top;\n",
       "    }\n",
       "\n",
       "    .dataframe thead th {\n",
       "        text-align: right;\n",
       "    }\n",
       "</style>\n",
       "<table border=\"1\" class=\"dataframe\">\n",
       "  <thead>\n",
       "    <tr style=\"text-align: right;\">\n",
       "      <th></th>\n",
       "      <th>pizza_id</th>\n",
       "      <th>pizza_name_id</th>\n",
       "      <th>quantity</th>\n",
       "      <th>pizza_category</th>\n",
       "      <th>pizza_ingredients</th>\n",
       "      <th>pizza_name</th>\n",
       "      <th>order_month</th>\n",
       "      <th>order_day</th>\n",
       "      <th>order_year</th>\n",
       "      <th>order_time_seconds</th>\n",
       "      <th>pizza_size_M</th>\n",
       "      <th>pizza_size_S</th>\n",
       "      <th>pizza_size_XL</th>\n",
       "      <th>pizza_size_XXL</th>\n",
       "    </tr>\n",
       "  </thead>\n",
       "  <tbody>\n",
       "    <tr>\n",
       "      <th>0</th>\n",
       "      <td>1</td>\n",
       "      <td>27</td>\n",
       "      <td>0.0</td>\n",
       "      <td>1</td>\n",
       "      <td>23</td>\n",
       "      <td>12</td>\n",
       "      <td>1</td>\n",
       "      <td>1</td>\n",
       "      <td>2015</td>\n",
       "      <td>0.133898</td>\n",
       "      <td>1</td>\n",
       "      <td>0</td>\n",
       "      <td>0</td>\n",
       "      <td>0</td>\n",
       "    </tr>\n",
       "    <tr>\n",
       "      <th>1</th>\n",
       "      <td>2</td>\n",
       "      <td>18</td>\n",
       "      <td>0.0</td>\n",
       "      <td>1</td>\n",
       "      <td>20</td>\n",
       "      <td>7</td>\n",
       "      <td>1</td>\n",
       "      <td>1</td>\n",
       "      <td>2015</td>\n",
       "      <td>0.157926</td>\n",
       "      <td>1</td>\n",
       "      <td>0</td>\n",
       "      <td>0</td>\n",
       "      <td>0</td>\n",
       "    </tr>\n",
       "    <tr>\n",
       "      <th>2</th>\n",
       "      <td>3</td>\n",
       "      <td>20</td>\n",
       "      <td>0.0</td>\n",
       "      <td>3</td>\n",
       "      <td>17</td>\n",
       "      <td>8</td>\n",
       "      <td>1</td>\n",
       "      <td>1</td>\n",
       "      <td>2015</td>\n",
       "      <td>0.157926</td>\n",
       "      <td>0</td>\n",
       "      <td>0</td>\n",
       "      <td>0</td>\n",
       "      <td>0</td>\n",
       "    </tr>\n",
       "    <tr>\n",
       "      <th>3</th>\n",
       "      <td>4</td>\n",
       "      <td>32</td>\n",
       "      <td>0.0</td>\n",
       "      <td>2</td>\n",
       "      <td>4</td>\n",
       "      <td>14</td>\n",
       "      <td>1</td>\n",
       "      <td>1</td>\n",
       "      <td>2015</td>\n",
       "      <td>0.157926</td>\n",
       "      <td>0</td>\n",
       "      <td>0</td>\n",
       "      <td>0</td>\n",
       "      <td>0</td>\n",
       "    </tr>\n",
       "    <tr>\n",
       "      <th>4</th>\n",
       "      <td>5</td>\n",
       "      <td>42</td>\n",
       "      <td>0.0</td>\n",
       "      <td>3</td>\n",
       "      <td>31</td>\n",
       "      <td>17</td>\n",
       "      <td>1</td>\n",
       "      <td>1</td>\n",
       "      <td>2015</td>\n",
       "      <td>0.157926</td>\n",
       "      <td>1</td>\n",
       "      <td>0</td>\n",
       "      <td>0</td>\n",
       "      <td>0</td>\n",
       "    </tr>\n",
       "  </tbody>\n",
       "</table>\n",
       "</div>"
      ],
      "text/plain": [
       "   pizza_id  pizza_name_id  quantity  pizza_category  pizza_ingredients  \\\n",
       "0         1             27       0.0               1                 23   \n",
       "1         2             18       0.0               1                 20   \n",
       "2         3             20       0.0               3                 17   \n",
       "3         4             32       0.0               2                  4   \n",
       "4         5             42       0.0               3                 31   \n",
       "\n",
       "   pizza_name  order_month  order_day  order_year  order_time_seconds  \\\n",
       "0          12            1          1        2015            0.133898   \n",
       "1           7            1          1        2015            0.157926   \n",
       "2           8            1          1        2015            0.157926   \n",
       "3          14            1          1        2015            0.157926   \n",
       "4          17            1          1        2015            0.157926   \n",
       "\n",
       "   pizza_size_M  pizza_size_S  pizza_size_XL  pizza_size_XXL  \n",
       "0             1             0              0               0  \n",
       "1             1             0              0               0  \n",
       "2             0             0              0               0  \n",
       "3             0             0              0               0  \n",
       "4             1             0              0               0  "
      ]
     },
     "execution_count": 34,
     "metadata": {},
     "output_type": "execute_result"
    }
   ],
   "source": [
    "x.head()"
   ]
  },
  {
   "cell_type": "code",
   "execution_count": 35,
   "id": "f69b2ba6",
   "metadata": {},
   "outputs": [
    {
     "data": {
      "text/html": [
       "<div>\n",
       "<style scoped>\n",
       "    .dataframe tbody tr th:only-of-type {\n",
       "        vertical-align: middle;\n",
       "    }\n",
       "\n",
       "    .dataframe tbody tr th {\n",
       "        vertical-align: top;\n",
       "    }\n",
       "\n",
       "    .dataframe thead th {\n",
       "        text-align: right;\n",
       "    }\n",
       "</style>\n",
       "<table border=\"1\" class=\"dataframe\">\n",
       "  <thead>\n",
       "    <tr style=\"text-align: right;\">\n",
       "      <th></th>\n",
       "      <th>total_price</th>\n",
       "    </tr>\n",
       "  </thead>\n",
       "  <tbody>\n",
       "    <tr>\n",
       "      <th>0</th>\n",
       "      <td>13.25</td>\n",
       "    </tr>\n",
       "    <tr>\n",
       "      <th>1</th>\n",
       "      <td>16.00</td>\n",
       "    </tr>\n",
       "    <tr>\n",
       "      <th>2</th>\n",
       "      <td>18.50</td>\n",
       "    </tr>\n",
       "    <tr>\n",
       "      <th>3</th>\n",
       "      <td>20.75</td>\n",
       "    </tr>\n",
       "    <tr>\n",
       "      <th>4</th>\n",
       "      <td>16.00</td>\n",
       "    </tr>\n",
       "  </tbody>\n",
       "</table>\n",
       "</div>"
      ],
      "text/plain": [
       "   total_price\n",
       "0        13.25\n",
       "1        16.00\n",
       "2        18.50\n",
       "3        20.75\n",
       "4        16.00"
      ]
     },
     "execution_count": 35,
     "metadata": {},
     "output_type": "execute_result"
    }
   ],
   "source": [
    "y.head()"
   ]
  },
  {
   "cell_type": "code",
   "execution_count": 36,
   "id": "0e98ff0c",
   "metadata": {},
   "outputs": [],
   "source": [
    "from sklearn.model_selection import train_test_split"
   ]
  },
  {
   "cell_type": "code",
   "execution_count": 37,
   "id": "96fe940f",
   "metadata": {},
   "outputs": [],
   "source": [
    "x_train,x_test,y_train,y_test=train_test_split(x,y,test_size=0.30,random_state=1)"
   ]
  },
  {
   "cell_type": "code",
   "execution_count": 38,
   "id": "d8cc35cf",
   "metadata": {},
   "outputs": [
    {
     "data": {
      "text/plain": [
       "(34034, 14)"
      ]
     },
     "execution_count": 38,
     "metadata": {},
     "output_type": "execute_result"
    }
   ],
   "source": [
    "x_train.shape"
   ]
  },
  {
   "cell_type": "code",
   "execution_count": 39,
   "id": "8f89c403",
   "metadata": {},
   "outputs": [
    {
     "data": {
      "text/plain": [
       "(34034, 1)"
      ]
     },
     "execution_count": 39,
     "metadata": {},
     "output_type": "execute_result"
    }
   ],
   "source": [
    "y_train.shape"
   ]
  },
  {
   "cell_type": "code",
   "execution_count": 40,
   "id": "ad09ea2d",
   "metadata": {},
   "outputs": [
    {
     "data": {
      "text/plain": [
       "(14586, 14)"
      ]
     },
     "execution_count": 40,
     "metadata": {},
     "output_type": "execute_result"
    }
   ],
   "source": [
    "x_test.shape"
   ]
  },
  {
   "cell_type": "code",
   "execution_count": 41,
   "id": "645a1888",
   "metadata": {},
   "outputs": [
    {
     "data": {
      "text/plain": [
       "(14586, 1)"
      ]
     },
     "execution_count": 41,
     "metadata": {},
     "output_type": "execute_result"
    }
   ],
   "source": [
    "y_test.shape"
   ]
  },
  {
   "cell_type": "markdown",
   "id": "224972d9",
   "metadata": {},
   "source": [
    "## Linear Regression"
   ]
  },
  {
   "cell_type": "code",
   "execution_count": 42,
   "id": "27576173",
   "metadata": {},
   "outputs": [],
   "source": [
    "from sklearn.linear_model import LinearRegression"
   ]
  },
  {
   "cell_type": "code",
   "execution_count": 43,
   "id": "eda525a9",
   "metadata": {},
   "outputs": [],
   "source": [
    "regression_model=LinearRegression()"
   ]
  },
  {
   "cell_type": "code",
   "execution_count": 44,
   "id": "50edb2e9",
   "metadata": {},
   "outputs": [
    {
     "data": {
      "text/plain": [
       "LinearRegression()"
      ]
     },
     "execution_count": 44,
     "metadata": {},
     "output_type": "execute_result"
    }
   ],
   "source": [
    "regression_model.fit(x_train,y_train)"
   ]
  },
  {
   "cell_type": "code",
   "execution_count": 45,
   "id": "87ad3b9d",
   "metadata": {},
   "outputs": [
    {
     "data": {
      "text/plain": [
       "array([ 1.99234455e-05,  1.46009954e-02,  4.96236569e+01,  2.27717039e-01,\n",
       "       -7.34708655e-02, -3.04593191e-02, -7.93279601e-02, -1.32445580e-03,\n",
       "        6.21724894e-15,  1.77939172e-02, -3.94199072e+00, -7.62498548e+00,\n",
       "        5.02115963e+00,  1.53363671e+01])"
      ]
     },
     "execution_count": 45,
     "metadata": {},
     "output_type": "execute_result"
    }
   ],
   "source": [
    "regression_model.coef_[0]"
   ]
  },
  {
   "cell_type": "code",
   "execution_count": 46,
   "id": "00e032b7",
   "metadata": {},
   "outputs": [
    {
     "name": "stdout",
     "output_type": "stream",
     "text": [
      "The coeff for pizza_id is 1.9923445520871618e-05\n",
      "The coeff for pizza_name_id is 0.014600995442313205\n",
      "The coeff for quantity is 49.62365691415167\n",
      "The coeff for pizza_category is 0.22771703871345778\n",
      "The coeff for pizza_ingredients is -0.07347086548596185\n",
      "The coeff for pizza_name is -0.03045931908632823\n",
      "The coeff for order_month is -0.07932796013330093\n",
      "The coeff for order_day is -0.001324455796307947\n",
      "The coeff for order_year is 6.217248937900877e-15\n",
      "The coeff for order_time_seconds is 0.017793917186757508\n",
      "The coeff for pizza_size_M is -3.941990716063762\n",
      "The coeff for pizza_size_S is -7.624985484506947\n",
      "The coeff for pizza_size_XL is 5.021159632375265\n",
      "The coeff for pizza_size_XXL is 15.336367055489863\n"
     ]
    }
   ],
   "source": [
    "for idx,col_name in enumerate(x_train.columns):\n",
    "    print('The coeff for {} is {}'.format(col_name,regression_model.coef_[0][idx]))"
   ]
  },
  {
   "cell_type": "code",
   "execution_count": 47,
   "id": "a6f6778f",
   "metadata": {},
   "outputs": [
    {
     "data": {
      "text/plain": [
       "20.560118572882665"
      ]
     },
     "execution_count": 47,
     "metadata": {},
     "output_type": "execute_result"
    }
   ],
   "source": [
    "intercept=regression_model.intercept_[0]\n",
    "intercept"
   ]
  },
  {
   "cell_type": "code",
   "execution_count": 48,
   "id": "4ad8d5a2",
   "metadata": {},
   "outputs": [
    {
     "data": {
      "text/plain": [
       "0.8587779807238929"
      ]
     },
     "execution_count": 48,
     "metadata": {},
     "output_type": "execute_result"
    }
   ],
   "source": [
    "# R Square on the train the data\n",
    "regression_model.score(x_train,y_train)"
   ]
  },
  {
   "cell_type": "code",
   "execution_count": 49,
   "id": "6c97e379",
   "metadata": {},
   "outputs": [
    {
     "data": {
      "text/plain": [
       "0.8496714922414899"
      ]
     },
     "execution_count": 49,
     "metadata": {},
     "output_type": "execute_result"
    }
   ],
   "source": [
    "# R Square on the test the data\n",
    "regression_model.score(x_test,y_test)"
   ]
  },
  {
   "cell_type": "code",
   "execution_count": 50,
   "id": "2b43ceb8",
   "metadata": {},
   "outputs": [],
   "source": [
    "predicted_train=regression_model.predict(x_train)\n",
    "predicted_test=regression_model.predict(x_test)"
   ]
  },
  {
   "cell_type": "code",
   "execution_count": 51,
   "id": "4c212a4e",
   "metadata": {},
   "outputs": [
    {
     "data": {
      "text/html": [
       "<div>\n",
       "<style scoped>\n",
       "    .dataframe tbody tr th:only-of-type {\n",
       "        vertical-align: middle;\n",
       "    }\n",
       "\n",
       "    .dataframe tbody tr th {\n",
       "        vertical-align: top;\n",
       "    }\n",
       "\n",
       "    .dataframe thead th {\n",
       "        text-align: right;\n",
       "    }\n",
       "</style>\n",
       "<table border=\"1\" class=\"dataframe\">\n",
       "  <thead>\n",
       "    <tr style=\"text-align: right;\">\n",
       "      <th></th>\n",
       "      <th>total_price</th>\n",
       "    </tr>\n",
       "  </thead>\n",
       "  <tbody>\n",
       "    <tr>\n",
       "      <th>6779</th>\n",
       "      <td>20.50</td>\n",
       "    </tr>\n",
       "    <tr>\n",
       "      <th>46272</th>\n",
       "      <td>12.75</td>\n",
       "    </tr>\n",
       "    <tr>\n",
       "      <th>45245</th>\n",
       "      <td>20.75</td>\n",
       "    </tr>\n",
       "    <tr>\n",
       "      <th>27268</th>\n",
       "      <td>16.50</td>\n",
       "    </tr>\n",
       "    <tr>\n",
       "      <th>43841</th>\n",
       "      <td>20.25</td>\n",
       "    </tr>\n",
       "  </tbody>\n",
       "</table>\n",
       "</div>"
      ],
      "text/plain": [
       "       total_price\n",
       "6779         20.50\n",
       "46272        12.75\n",
       "45245        20.75\n",
       "27268        16.50\n",
       "43841        20.25"
      ]
     },
     "execution_count": 51,
     "metadata": {},
     "output_type": "execute_result"
    }
   ],
   "source": [
    "y_train.head()"
   ]
  },
  {
   "cell_type": "code",
   "execution_count": 52,
   "id": "c85f75ae",
   "metadata": {},
   "outputs": [
    {
     "data": {
      "text/plain": [
       "array([[20.55656115],\n",
       "       [12.59958514],\n",
       "       [20.71590453],\n",
       "       ...,\n",
       "       [17.02188775],\n",
       "       [20.20042188],\n",
       "       [11.89802522]])"
      ]
     },
     "execution_count": 52,
     "metadata": {},
     "output_type": "execute_result"
    }
   ],
   "source": [
    "predicted_train"
   ]
  },
  {
   "cell_type": "code",
   "execution_count": 53,
   "id": "04cd3884",
   "metadata": {},
   "outputs": [],
   "source": [
    "from sklearn.metrics import mean_squared_error,mean_absolute_percentage_error"
   ]
  },
  {
   "cell_type": "code",
   "execution_count": 54,
   "id": "2db928ab",
   "metadata": {},
   "outputs": [
    {
     "data": {
      "text/plain": [
       "2.822379681194555"
      ]
     },
     "execution_count": 54,
     "metadata": {},
     "output_type": "execute_result"
    }
   ],
   "source": [
    "# MSE on train data\n",
    "MSE_Train=mean_squared_error(y_train,predicted_train)\n",
    "MSE_Train"
   ]
  },
  {
   "cell_type": "code",
   "execution_count": 55,
   "id": "355ae518",
   "metadata": {},
   "outputs": [
    {
     "data": {
      "text/plain": [
       "1.679993952725591"
      ]
     },
     "execution_count": 55,
     "metadata": {},
     "output_type": "execute_result"
    }
   ],
   "source": [
    "# RMSE on train data\n",
    "RMSE_Train=np.sqrt(mean_squared_error(y_train,predicted_train))\n",
    "RMSE_Train"
   ]
  },
  {
   "cell_type": "code",
   "execution_count": 56,
   "id": "85f4e7a8",
   "metadata": {},
   "outputs": [
    {
     "data": {
      "text/plain": [
       "1.689937728465801"
      ]
     },
     "execution_count": 56,
     "metadata": {},
     "output_type": "execute_result"
    }
   ],
   "source": [
    "# RMSE on test data\n",
    "RMSE_Test=np.sqrt(mean_squared_error(y_test,predicted_test))\n",
    "RMSE_Test"
   ]
  },
  {
   "cell_type": "code",
   "execution_count": 57,
   "id": "371507d9",
   "metadata": {},
   "outputs": [
    {
     "data": {
      "text/plain": [
       "0.061713289665695135"
      ]
     },
     "execution_count": 57,
     "metadata": {},
     "output_type": "execute_result"
    }
   ],
   "source": [
    "mean_absolute_percentage_error(y_train,predicted_train)"
   ]
  },
  {
   "cell_type": "code",
   "execution_count": 58,
   "id": "23c5bd63",
   "metadata": {},
   "outputs": [
    {
     "data": {
      "image/png": "[encoded data removed]",
      "text/plain": [
       "<Figure size 640x480 with 1 Axes>"
      ]
     },
     "metadata": {},
     "output_type": "display_data"
    }
   ],
   "source": [
    "# plot b/w actual and the predicted value of the y varibale(mpg)\n",
    "plt.scatter(y_train,predicted_train);"
   ]
  },
  {
   "cell_type": "code",
   "execution_count": 59,
   "id": "cda0d522",
   "metadata": {},
   "outputs": [
    {
     "data": {
      "image/png": "[encoded data removed]",
      "text/plain": [
       "<Figure size 640x480 with 1 Axes>"
      ]
     },
     "metadata": {},
     "output_type": "display_data"
    }
   ],
   "source": [
    "plt.scatter(y_test,predicted_test);"
   ]
  },
  {
   "cell_type": "markdown",
   "id": "eb3671f1",
   "metadata": {},
   "source": [
    "## Decision Tree"
   ]
  },
  {
   "cell_type": "code",
   "execution_count": 60,
   "id": "b65ee65e",
   "metadata": {},
   "outputs": [],
   "source": [
    "from sklearn.tree import DecisionTreeRegressor"
   ]
  },
  {
   "cell_type": "code",
   "execution_count": 61,
   "id": "7b172e6e",
   "metadata": {},
   "outputs": [],
   "source": [
    "dt_model= DecisionTreeRegressor(max_depth=3)"
   ]
  },
  {
   "cell_type": "code",
   "execution_count": 62,
   "id": "683aa707",
   "metadata": {},
   "outputs": [
    {
     "data": {
      "text/plain": [
       "DecisionTreeRegressor(max_depth=3)"
      ]
     },
     "execution_count": 62,
     "metadata": {},
     "output_type": "execute_result"
    }
   ],
   "source": [
    "dt_model.fit(x_train,y_train)"
   ]
  },
  {
   "cell_type": "code",
   "execution_count": 63,
   "id": "63abee88",
   "metadata": {},
   "outputs": [
    {
     "data": {
      "text/plain": [
       "0.8309328009409993"
      ]
     },
     "execution_count": 63,
     "metadata": {},
     "output_type": "execute_result"
    }
   ],
   "source": [
    "dt_model.score(x_train,y_train)"
   ]
  },
  {
   "cell_type": "code",
   "execution_count": 64,
   "id": "b7866709",
   "metadata": {},
   "outputs": [
    {
     "data": {
      "text/plain": [
       "0.8221610581366108"
      ]
     },
     "execution_count": 64,
     "metadata": {},
     "output_type": "execute_result"
    }
   ],
   "source": [
    "dt_model.score(x_test,y_test)"
   ]
  },
  {
   "cell_type": "code",
   "execution_count": 65,
   "id": "98b94770",
   "metadata": {},
   "outputs": [
    {
     "data": {
      "text/plain": [
       "1.8381721794880144"
      ]
     },
     "execution_count": 65,
     "metadata": {},
     "output_type": "execute_result"
    }
   ],
   "source": [
    "## RMSE on train data\n",
    "predicted_train=dt_model.predict(x_train)\n",
    "mean_squared_error(y_train,predicted_train,squared=False)"
   ]
  },
  {
   "cell_type": "code",
   "execution_count": 66,
   "id": "e280c727",
   "metadata": {},
   "outputs": [
    {
     "data": {
      "text/plain": [
       "1.8380759873140238"
      ]
     },
     "execution_count": 66,
     "metadata": {},
     "output_type": "execute_result"
    }
   ],
   "source": [
    "## RMSE on test data\n",
    "predicted_test=dt_model.predict(x_test)\n",
    "mean_squared_error(y_test,predicted_test,squared=False)"
   ]
  },
  {
   "cell_type": "code",
   "execution_count": 67,
   "id": "f6c3517f",
   "metadata": {},
   "outputs": [
    {
     "data": {
      "text/plain": [
       "0.06650775143983478"
      ]
     },
     "execution_count": 67,
     "metadata": {},
     "output_type": "execute_result"
    }
   ],
   "source": [
    "mean_absolute_percentage_error(y_train,predicted_train)"
   ]
  },
  {
   "cell_type": "markdown",
   "id": "98b8ec10",
   "metadata": {},
   "source": [
    "## Random Forest"
   ]
  },
  {
   "cell_type": "code",
   "execution_count": 68,
   "id": "f31fd2dc",
   "metadata": {},
   "outputs": [],
   "source": [
    "from sklearn.ensemble import RandomForestRegressor"
   ]
  },
  {
   "cell_type": "code",
   "execution_count": 69,
   "id": "3cb33d8d",
   "metadata": {},
   "outputs": [],
   "source": [
    "rf_model=RandomForestRegressor(n_estimators=100,\n",
    "                              random_state=4,\n",
    "                              max_samples=0.7,\n",
    "                              max_features=0.75,\n",
    "                              max_depth=35)"
   ]
  },
  {
   "cell_type": "code",
   "execution_count": 70,
   "id": "0286e41d",
   "metadata": {},
   "outputs": [
    {
     "data": {
      "text/plain": [
       "RandomForestRegressor(max_depth=35, max_features=0.75, max_samples=0.7,\n",
       "                      random_state=4)"
      ]
     },
     "execution_count": 70,
     "metadata": {},
     "output_type": "execute_result"
    }
   ],
   "source": [
    "rf_model.fit(x_train,y_train)"
   ]
  },
  {
   "cell_type": "code",
   "execution_count": 71,
   "id": "94ce7858",
   "metadata": {},
   "outputs": [
    {
     "data": {
      "text/plain": [
       "0.9993772675080456"
      ]
     },
     "execution_count": 71,
     "metadata": {},
     "output_type": "execute_result"
    }
   ],
   "source": [
    "rf_model.score(x_train,y_train)"
   ]
  },
  {
   "cell_type": "code",
   "execution_count": 72,
   "id": "2a1e8078",
   "metadata": {},
   "outputs": [
    {
     "data": {
      "text/plain": [
       "0.9987592544820099"
      ]
     },
     "execution_count": 72,
     "metadata": {},
     "output_type": "execute_result"
    }
   ],
   "source": [
    "rf_model.score(x_test,y_test)"
   ]
  },
  {
   "cell_type": "code",
   "execution_count": 73,
   "id": "29911e7e",
   "metadata": {},
   "outputs": [
    {
     "data": {
      "text/plain": [
       "0.11155968339458337"
      ]
     },
     "execution_count": 73,
     "metadata": {},
     "output_type": "execute_result"
    }
   ],
   "source": [
    "## RMSE on train data\n",
    "predicted_train=rf_model.predict(x_train)\n",
    "mean_squared_error(y_train,predicted_train,squared=False)"
   ]
  },
  {
   "cell_type": "code",
   "execution_count": 74,
   "id": "a3c2e435",
   "metadata": {},
   "outputs": [
    {
     "data": {
      "text/plain": [
       "0.15352934112735955"
      ]
     },
     "execution_count": 74,
     "metadata": {},
     "output_type": "execute_result"
    }
   ],
   "source": [
    "## RMSE on test data\n",
    "predicted_test=rf_model.predict(x_test)\n",
    "mean_squared_error(y_test,predicted_test,squared=False)"
   ]
  },
  {
   "cell_type": "code",
   "execution_count": 75,
   "id": "b46d6e76",
   "metadata": {},
   "outputs": [
    {
     "data": {
      "text/plain": [
       "9.644075949541285e-05"
      ]
     },
     "execution_count": 75,
     "metadata": {},
     "output_type": "execute_result"
    }
   ],
   "source": [
    "mean_absolute_percentage_error(y_train,predicted_train)"
   ]
  },
  {
   "cell_type": "markdown",
   "id": "58d7e580",
   "metadata": {},
   "source": [
    "### By The all models we can gathered accuracy of R2 score, RMSE and MAE Score and we can make the dataframe to easily identify which module gives best accuracy."
   ]
  },
  {
   "cell_type": "code",
   "execution_count": 76,
   "id": "b11dc861",
   "metadata": {},
   "outputs": [
    {
     "data": {
      "text/html": [
       "<div>\n",
       "<style scoped>\n",
       "    .dataframe tbody tr th:only-of-type {\n",
       "        vertical-align: middle;\n",
       "    }\n",
       "\n",
       "    .dataframe tbody tr th {\n",
       "        vertical-align: top;\n",
       "    }\n",
       "\n",
       "    .dataframe thead th {\n",
       "        text-align: right;\n",
       "    }\n",
       "</style>\n",
       "<table border=\"1\" class=\"dataframe\">\n",
       "  <thead>\n",
       "    <tr style=\"text-align: right;\">\n",
       "      <th></th>\n",
       "      <th>Train Score</th>\n",
       "      <th>Test Score</th>\n",
       "      <th>RMSE Score</th>\n",
       "      <th>MAE Score</th>\n",
       "    </tr>\n",
       "    <tr>\n",
       "      <th>Model</th>\n",
       "      <th></th>\n",
       "      <th></th>\n",
       "      <th></th>\n",
       "      <th></th>\n",
       "    </tr>\n",
       "  </thead>\n",
       "  <tbody>\n",
       "    <tr>\n",
       "      <th>Linear Regression</th>\n",
       "      <td>0.85</td>\n",
       "      <td>0.84</td>\n",
       "      <td>1.67</td>\n",
       "      <td>0.06</td>\n",
       "    </tr>\n",
       "    <tr>\n",
       "      <th>Decision Tree</th>\n",
       "      <td>0.83</td>\n",
       "      <td>0.82</td>\n",
       "      <td>1.83</td>\n",
       "      <td>0.06</td>\n",
       "    </tr>\n",
       "    <tr>\n",
       "      <th>Random Forest</th>\n",
       "      <td>0.99</td>\n",
       "      <td>0.99</td>\n",
       "      <td>0.14</td>\n",
       "      <td>0.00</td>\n",
       "    </tr>\n",
       "  </tbody>\n",
       "</table>\n",
       "</div>"
      ],
      "text/plain": [
       "                   Train Score  Test Score  RMSE Score  MAE Score\n",
       "Model                                                            \n",
       "Linear Regression         0.85        0.84        1.67       0.06\n",
       "Decision Tree             0.83        0.82        1.83       0.06\n",
       "Random Forest             0.99        0.99        0.14       0.00"
      ]
     },
     "execution_count": 76,
     "metadata": {},
     "output_type": "execute_result"
    }
   ],
   "source": [
    "Results = pd.DataFrame({'Model':['Linear Regression','Decision Tree','Random Forest'],'Train Score':[0.85,0.83,0.99],'Test Score':[0.84,0.82,0.99],'RMSE Score':[1.67,1.83,0.14],'MAE Score':[0.06,0.06,0.00]})\n",
    "Results_show = Results.set_index('Model')\n",
    "Results_show"
   ]
  },
  {
   "cell_type": "markdown",
   "id": "5317f0b3",
   "metadata": {},
   "source": [
    "## Conclusion"
   ]
  },
  {
   "cell_type": "markdown",
   "id": "d2bdf2e5",
   "metadata": {},
   "source": [
    "Three different models were trained and evaluated on this data: Linear Regression, Decision Tree, and Random Forest. The Random Forest model outperformed the others with a high Train Score and Test Score, indicating strong predictive capabilities. Additionally, the RMSE and MAE scores for the Random Forest model are significantly lower than those of the other models, suggesting that its predictions are more accurate and closer to the actual sales values.\n",
    "\n",
    "In conclusion, the Random Forest model's strong predictive performance offers valuable insights for optimizing various aspects of the pizzeria's operations. By utilizing the model's predictions and understanding the factors driving sales, the pizzeria can enhance inventory management, marketing strategies, menu offerings, and overall customer satisfaction, ultimately leading to increased business revenue."
   ]
  },
  {
   "cell_type": "markdown",
   "id": "b9f5dc18",
   "metadata": {},
   "source": [
    "## Business Perspectives and Insights:"
   ]
  },
  {
   "cell_type": "markdown",
   "id": "e506c4e5",
   "metadata": {},
   "source": [
    "Optimized Inventory and Production Planning: The accurate sales predictions from the Random Forest model can be used for efficient inventory management and production planning. By understanding which pizzas are likely to sell more, the pizzeria can ensure that they have the right ingredients on hand and avoid excess waste.\n",
    "\n",
    "Tailored Marketing Strategies: With insights into which pizzas are popular and which attributes contribute to higher sales, the pizzeria can tailor their marketing strategies. Promotions, advertisements, and specials can be designed around the most popular pizza categories and attributes.\n",
    "\n",
    "Menu Optimization: Understanding the impact of different ingredients and pizza attributes on sales allows for menu optimization. The pizzeria can focus on enhancing or promoting the pizzas that customers are more likely to order, potentially boosting revenue.\n",
    "\n",
    "Customer Satisfaction and Loyalty: By analyzing the data, the pizzeria can identify customer preferences and patterns. This can lead to the creation of customer-favorite combinations or personalized options that resonate with their audience, enhancing customer satisfaction and loyalty.\n",
    "\n",
    "Demand Forecasting: The model's predictive power can assist in forecasting future demand, helping the pizzeria make informed decisions about staffing, supply orders, and overall business strategies.\n",
    "\n",
    "Sales Improvement: Based on the Random Forest model's strong performance, it's evident that attributes such as pizza size, category, and ingredients play a significant role in sales. By focusing on these attributes, the pizzeria can experiment with new combinations and offerings that align with customer preferences.\n",
    "\n",
    "Special Promotions: The insights from the model can guide the creation of special promotions centered around high-performing pizza categories or attributes. Limited-time offers or discounts on popular pizzas can attract more customers and increase sales.\n",
    "\n",
    "Customer Segmentation: The pizzeria can segment their customer base based on order patterns and preferences. This segmentation can inform targeted marketing efforts and customization options for different customer groups."
   ]
  },
  {
   "cell_type": "code",
   "execution_count": null,
   "id": "b0a85f12",
   "metadata": {},
   "outputs": [],
   "source": []
  }
 ],
 "metadata": {
  "kernelspec": {
   "display_name": "Python 3 (ipykernel)",
   "language": "python",
   "name": "python3"
  },
  "language_info": {
   "codemirror_mode": {
    "name": "ipython",
    "version": 3
   },
   "file_extension": ".py",
   "mimetype": "text/x-python",
   "name": "python",
   "nbconvert_exporter": "python",
   "pygments_lexer": "ipython3",
   "version": "3.9.13"
  }
 },
 "nbformat": 4,
 "nbformat_minor": 5
}
